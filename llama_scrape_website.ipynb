{
 "cells": [
  {
   "cell_type": "code",
   "execution_count": 2,
   "id": "1cc7a046-7550-40ad-9fef-56b22ae9a855",
   "metadata": {},
   "outputs": [],
   "source": [
    "import os\n",
    "import requests\n",
    "from dotenv import load_dotenv\n",
    "from bs4 import BeautifulSoup\n",
    "from IPython.display import Markdown, display\n",
    "from openai import OpenAI\n",
    "from searchwebsite import Website"
   ]
  },
  {
   "cell_type": "code",
   "execution_count": 3,
   "id": "8316fced-13be-4fc1-86e9-9129ab6b7886",
   "metadata": {},
   "outputs": [],
   "source": [
    "OLLAMA_API = \"http://localhost:11434/api/chat\"\n",
    "HEADERS = {\"Content-Type\": \"application/json\"}\n",
    "MODEL = \"llama3.2:3b\""
   ]
  },
  {
   "cell_type": "code",
   "execution_count": 6,
   "id": "d52e3794-d010-43db-80fc-d936c55728a9",
   "metadata": {},
   "outputs": [],
   "source": [
    "# Create a messages list using the same format that we used for OpenAI\n",
    "\n",
    "messages = [\n",
    "    {\"role\": \"user\", \"content\": \"Describe some of the business applications of Generative AI\"}\n",
    "]"
   ]
  },
  {
   "cell_type": "code",
   "execution_count": 7,
   "id": "18b2197c-8f08-4e04-8aeb-8499673b38c1",
   "metadata": {},
   "outputs": [],
   "source": [
    "payload = {\n",
    "        \"model\": MODEL,\n",
    "        \"messages\": messages,\n",
    "        \"stream\": False\n",
    "    }"
   ]
  },
  {
   "cell_type": "code",
   "execution_count": 8,
   "id": "dd1ec724-4ac5-4858-aaed-9c3e7b8575b5",
   "metadata": {},
   "outputs": [
    {
     "name": "stdout",
     "output_type": "stream",
     "text": [
      "Generative AI has numerous business applications across various industries. Here are some examples:\n",
      "\n",
      "1. **Content Creation**: Generative AI can be used to generate high-quality content such as articles, social media posts, product descriptions, and more. This can save time and resources for businesses, while also improving the consistency and quality of their content.\n",
      "2. **Marketing Automation**: Generative AI can help automate marketing processes by generating personalized emails, ads, and promotional materials based on customer data and behavior.\n",
      "3. **Product Design**: Generative AI can be used to design new products, such as furniture, architecture, or even entire buildings. This can save time and resources for product designers, while also allowing for more innovative and creative designs.\n",
      "4. **Supply Chain Optimization**: Generative AI can help optimize supply chains by predicting demand, managing inventory, and identifying potential bottlenecks in the supply chain.\n",
      "5. **Customer Service**: Generative AI-powered chatbots can be used to provide 24/7 customer support, answering frequently asked questions and routing complex issues to human representatives.\n",
      "6. **Financial Analysis**: Generative AI can be used to analyze large datasets of financial transactions, identifying patterns and trends that may not be apparent through human analysis.\n",
      "7. **Creative Writing**: Generative AI can be used to generate creative writing such as poetry, short stories, or even entire books.\n",
      "8. **Music Composition**: Generative AI can be used to compose music, generating new melodies and harmonies based on existing styles and genres.\n",
      "9. **Image Generation**: Generative AI can be used to generate high-quality images, such as product photos, interior designs, or even entire scenes.\n",
      "10. **Data Visualization**: Generative AI can be used to create interactive and dynamic data visualizations, helping businesses to better understand their data and make more informed decisions.\n",
      "\n",
      "Some specific business use cases for Generative AI include:\n",
      "\n",
      "* **Netflix's Content Generation**: Netflix uses Generative AI to generate new content such as movie titles, descriptions, and even entire scripts.\n",
      "* **Amazon's Product Recommendations**: Amazon uses Generative AI to generate personalized product recommendations based on customer behavior and preferences.\n",
      "* **Google's Ad Campaigns**: Google uses Generative AI to optimize ad campaigns, generating high-quality ads that are more likely to convert customers.\n",
      "\n",
      "These are just a few examples of the many business applications of Generative AI. As the technology continues to evolve, we can expect to see even more innovative use cases in the future.\n"
     ]
    }
   ],
   "source": [
    "response = requests.post(OLLAMA_API, json=payload, headers=HEADERS)\n",
    "print(response.json()['message']['content'])"
   ]
  },
  {
   "cell_type": "code",
   "execution_count": 4,
   "id": "0c67106d-b51f-4a81-a354-ab6593a6c91d",
   "metadata": {},
   "outputs": [
    {
     "name": "stdout",
     "output_type": "stream",
     "text": [
      "Home | PremKumar Kora\n",
      "Skip to main content\n",
      "PremKumar Kora\n",
      "Data Scientist & AI Architect\n",
      "Home\n",
      "AI Innovations Hub\n",
      "Intellectual Portfolio\n",
      "Education\n",
      "Contact\n",
      "Published Author  | AI Architect\n",
      "​\n",
      "GenAI & LLMops Specialist\n",
      "With 25+ years in software technology and AI, I specialize in Artificial Intelligence, Large Language Models (LLMs), and Generative AI solutions for business transformation. My expertise spans AI architecture, machine learning, NLP, predictive analytics, and cloud AI deployment.\n",
      "As a Senior Data Scientist & GenAI Architect, I have led projects across industries, implementing LLMOps frameworks, data pipelines, and AI automation systems. My work includes enterprise AI solutions, real-time data analysis, and automated decision-making, leveraging GenAI, prompt engineering, and transformer models.\n",
      "I am passionate about developing scalable, real-world AI applications and advancing AI-driven innovations. Currently, I am exploring global opportunities  to contribute to the AI revolution.\n",
      "My Achievements\n",
      "2+\n",
      "Patent\n",
      "​\n",
      "2+\n",
      "​\n",
      "Author\n",
      "22+\n",
      "​\n",
      "Publications\n",
      "100+\n",
      "Mentoring\n",
      "23+\n",
      "Speaker\n",
      "Published Articles\n",
      "AI Agents\n",
      "Specialized AI Intelligence — Vertical AI Agents\n",
      "LLM Fine Tuning\n",
      "Fine-Tuning Foundational Models: A Guide to Customizing AI for Specific Needs\n",
      "Evaluate ML/DL Model\n",
      "Evaluating Machine Learning and Deep Learning Models.\n",
      "Large Language Models\n",
      "Large Language Models and Streaming Large Language Models explained\n",
      "Bias and Variance\n",
      "Bias and Variance / Overfitting and Underfitting Tradeoffs\n",
      "Data Lineage\n",
      "You can edit text on your website by double clicking.\n",
      "Discriminative vs. Generative Models\n",
      "Why and when to use Discriminative vs. Generative Models\n",
      "ML Algorithm Vs Model\n",
      "Difference Between an ML Algorithm and an ML Model\n",
      "Mentor to 100+ Future AI Professionals\n",
      "Through technical guidance, career coaching, and project-based learning, I empower mentees to develop AI-driven solutions, optimize ML models, and navigate the evolving landscape of artificial intelligence.\n",
      "Get In Touch\n",
      "Giving Back to the Community\n",
      "Recognized for outstanding contributions and awarded Best Mason of the Year for impactful charitable efforts by\n",
      "The Pitt Macdonald Lodge, No.1198.\n",
      "Eye camp\n",
      "Organized a community Eye Camp, screening 300+ individuals and facilitating cataract surgeries for 70+ needy patients. Ensured access to quality eye care for underprivileged communities, improving their vision and well-being.\n",
      "Flood relief camp\n",
      "Led a Flood Relief Camp, providing essential aid, food, and medical support to affected families.\n",
      "Coordinated efforts to distribute relief materials, ensuring timely assistance to those in need\n",
      "Helped in the rehabilitation and support of displaced individuals, focusing on community recovery.\n",
      "Recognized for dedication to humanitarian service and commitment to aiding disaster-stricken communities\n",
      "Medical camp\n",
      "Organized a General Medical Camp for the fisherman community at Irrukkam Island, providing essential healthcare services.\n",
      "Facilitated free medical check-ups, consultations, and treatments for individuals with limited access to healthcare.\n",
      "Partnered with medical professionals to diagnose and address common health issues among the underserved community\n",
      "Request My Resume\n",
      "📩 Enter your email below to receive a copy of my resume directly in your inbox.\n",
      "Email\n",
      "Subscribe\n",
      "PremKumar Kora\n"
     ]
    },
    {
     "data": {
      "text/plain": [
       "'#thememaincontent, /, /, /AI_hub, /Intellectual_Portfolio, /education, /contact, https://medium.com/@consultkora/specialized-ai-intelligence-vertical-ai-agents-749ad5ca4106, https://medium.com/@consultkora/fine-tuning-foundational-models-a-guide-to-customizing-ai-for-specific-needs-295c8a6222e6, https://medium.com/@consultkora/evaluating-machine-learning-and-deep-learning-models-5a5b17234488, https://medium.com/@consultkora/streaming-large-language-models-f3c59d51a9f0, https://medium.com/@consultkora/bias-and-variance-explained-c1468999b42f, https://medium.com/@consultkora/data-lineage-understanding-its-role-in-modern-data-management-a50822544c76, https://medium.com/@consultkora/why-and-when-to-use-discriminative-vs-generative-models-d3f28e254c3e, https://medium.com/@consultkora/difference-between-an-ml-algorithm-and-an-ml-model-31f9f0a76c51, javascript:;, https://www.linkedin.com/in/premkora/, https://x.com/premkumarkora'"
      ]
     },
     "execution_count": 4,
     "metadata": {},
     "output_type": "execute_result"
    }
   ],
   "source": [
    "website = Website(\"https://www.koraaitech.com/\")\n",
    "print(website.title)\n",
    "print(website.text)\n",
    "website.links"
   ]
  },
  {
   "cell_type": "markdown",
   "id": "ca975d8d-71f5-414b-91d6-bce0841bef24",
   "metadata": {},
   "source": [
    "# sending information to model first time"
   ]
  },
  {
   "cell_type": "code",
   "execution_count": 9,
   "id": "6fd161b6-8dd2-4e34-97da-0385c54d10cc",
   "metadata": {},
   "outputs": [],
   "source": [
    "messages = [\n",
    "        {\"role\": \"system\", \"content\": \"You are a helpful assistant.\"},\n",
    "        {\"role\": \"user\", \"content\": (\n",
    "            \"Here’s a list of URLs I’d like you to analyze:\\n\\n\"\n",
    "            f\"{website.links}\\n\\n\"\n",
    "            \"Can you please:\\n\"\n",
    "            \"1. Use all the links that will be useful for creating a profession resume\\n\"\n",
    "            \"2. Extract domain names.\\n\"\n",
    "            \"3. Summarize what kind of content lives at each URL (e.g. blog post, homepage, contact page).\"\n",
    "        )}\n",
    "    ]"
   ]
  },
  {
   "cell_type": "code",
   "execution_count": 10,
   "id": "b29f2ecf-5017-4751-8c1c-f4f65b4a7fbf",
   "metadata": {},
   "outputs": [],
   "source": [
    "payload = {\n",
    "        \"model\": MODEL,\n",
    "        \"messages\": messages,\n",
    "        \"stream\": False\n",
    "    }"
   ]
  },
  {
   "cell_type": "code",
   "execution_count": 14,
   "id": "3cb76a8f-f740-4967-974d-5af47023a430",
   "metadata": {},
   "outputs": [],
   "source": [
    "response = requests.post(OLLAMA_API, json=payload, headers=HEADERS)\n",
    "ass_response = response.json()['message']['content']"
   ]
  },
  {
   "cell_type": "markdown",
   "id": "aa188f5a-9a09-4092-aa0c-ec9ee0732a58",
   "metadata": {},
   "source": [
    "# A system prompt "
   ]
  },
  {
   "cell_type": "code",
   "execution_count": 19,
   "id": "cbc7849e-af75-4df7-b46f-ad31afe2dba8",
   "metadata": {},
   "outputs": [],
   "source": [
    "system_prompt = \"You are an assistant that analyzes the contents of a website \\\n",
    "and provide a resume, look for infomation from other links provided \\\n",
    "Respond in markdown.\""
   ]
  },
  {
   "cell_type": "markdown",
   "id": "6eb6b118-3d9e-4599-8a5b-57cca49c46ff",
   "metadata": {},
   "source": [
    "# User Prompt"
   ]
  },
  {
   "cell_type": "code",
   "execution_count": 20,
   "id": "714b91a1-494a-4e76-b885-96cd3174ac1d",
   "metadata": {},
   "outputs": [],
   "source": [
    "user_prompt = f\"You are looking at a website titled {website.title}\"\n",
    "user_prompt += \"\\nThe contents of this website is as follows; \\\n",
    "please create a professional resume pass ATS in markdown. \\n\\n\"\n",
    "user_prompt += website.text\n",
    "user_prompt += ass_response"
   ]
  },
  {
   "cell_type": "code",
   "execution_count": 21,
   "id": "eec5aa66-bfea-4b0b-9c8d-e20c127b5e3b",
   "metadata": {},
   "outputs": [],
   "source": [
    "messages = [\n",
    "        {\"role\": \"system\", \"content\": system_prompt},\n",
    "        {\"role\": \"user\", \"content\": user_prompt}\n",
    "    ]"
   ]
  },
  {
   "cell_type": "code",
   "execution_count": 22,
   "id": "62d195b2-d4bf-4e18-bf2a-0d3cdea7bd91",
   "metadata": {},
   "outputs": [],
   "source": [
    "payload = {\n",
    "        \"model\": MODEL,\n",
    "        \"messages\": messages,\n",
    "        \"stream\": False\n",
    "    }"
   ]
  },
  {
   "cell_type": "markdown",
   "id": "79b574e5-872b-4d50-9cce-610e888e280b",
   "metadata": {},
   "source": [
    "# sending information to model second time"
   ]
  },
  {
   "cell_type": "code",
   "execution_count": 23,
   "id": "04bda6b0-defc-4a94-b60f-0ea8f95bd0e0",
   "metadata": {},
   "outputs": [
    {
     "data": {
      "text/markdown": [
       "**Resume**\n",
       "================\n",
       "\n",
       "### Contact Information\n",
       "\n",
       "* Email: [premkumarkora@gmail.com](mailto:premkumarkora@gmail.com)\n",
       "* Phone: (123) 456-7890\n",
       "* LinkedIn: https://www.linkedin.com/in/premkora/\n",
       "* Medium: https://medium.com/@consultkora\n",
       "\n",
       "### Summary\n",
       "\n",
       "Highly experienced Data Scientist & AI Architect with over 25 years in software technology and AI. Proven track record of developing scalable, real-world AI applications and advancing AI-driven innovations.\n",
       "\n",
       "### Professional Experience\n",
       "\n",
       "**Data Scientist & AI Architect**\n",
       "PremKumar Kora\n",
       "AI Innovations Hub (2020-Present)\n",
       "\n",
       "* Develop and implement large-scale AI solutions for various industries\n",
       "* Lead projects across multiple industries, including finance, healthcare, and education\n",
       "* Collaborate with cross-functional teams to design and deploy AI-powered systems\n",
       "* Stay up-to-date with the latest advancements in AI, machine learning, and data science\n",
       "\n",
       "**Senior Data Scientist & GenAI Architect**\n",
       "PremKumar Kora (2015-2020)\n",
       "\n",
       "* Designed and developed AI-powered solutions for various industries\n",
       "* Led projects across multiple industries, including finance, healthcare, and education\n",
       "* Collaborated with cross-functional teams to design and deploy AI-powered systems\n",
       "* Stayed up-to-date with the latest advancements in AI, machine learning, and data science\n",
       "\n",
       "### Education\n",
       "\n",
       "* **Master of Science in Computer Science**, XYZ University (2010-2012)\n",
       "* **Bachelor of Engineering in Computer Science**, ABC University (2005-2009)\n",
       "\n",
       "### Achievements\n",
       "\n",
       "* Published over 100 articles on Medium and other platforms\n",
       "* Author of multiple books and research papers on AI, machine learning, and data science\n",
       "* Holder of multiple patents in AI and related fields\n",
       "* Recipient of the Best Mason Award for outstanding contributions to humanitarian service\n",
       "\n",
       "### Skills\n",
       "\n",
       "* **Programming languages:** Python, Java, C++, JavaScript\n",
       "* **AI frameworks:** TensorFlow, PyTorch, Scikit-Learn\n",
       "* **Machine learning algorithms:** Supervised/Unsupervised Learning, Deep Learning\n",
       "* **Data management:** Data Lineage, Data Warehousing\n",
       "* **Cloud platforms:** AWS, GCP, Azure\n",
       "\n",
       "### Awards and Recognition\n",
       "\n",
       "* Best Mason Award for outstanding contributions to humanitarian service (2020)\n",
       "* Recipient of the Pitt Macdonald Lodge, No.1198 (2019)\n",
       "\n",
       "### Publications\n",
       "\n",
       "1. \"Specialized AI Intelligence: Vertical AI Agents\" - Medium\n",
       "2. \"Fine-Tuning Foundational Models: A Guide to Customizing AI for Specific Needs\" - Medium\n",
       "3. \"Evaluating Machine Learning and Deep Learning Models\" - Medium\n",
       "4. \"Streaming Large Language Models\" - Medium\n",
       "5. \"Bias and Variance Explained\" - Medium\n",
       "\n",
       "### Mentoring\n",
       "\n",
       "* Mentor to over 100 future AI professionals\n",
       "* Technical guidance, career coaching, and project-based learning\n",
       "\n",
       "Note: This is a sample resume, please feel free to customize it as per your needs."
      ],
      "text/plain": [
       "<IPython.core.display.Markdown object>"
      ]
     },
     "metadata": {},
     "output_type": "display_data"
    }
   ],
   "source": [
    "response = requests.post(OLLAMA_API, json=payload, headers=HEADERS)\n",
    "ass_response = response.json()['message']['content']\n",
    "\n",
    "#print(response.output_text)\n",
    "#response.choices[0].message.content\n",
    "display(Markdown(response.json()['message']['content']))"
   ]
  },
  {
   "cell_type": "markdown",
   "id": "6609d1b3-2bb5-4af0-97e1-a09ccde5c97a",
   "metadata": {},
   "source": [
    "## Are you confused about why that works?\n",
    "\n",
    "It seems strange, right? We just used OpenAI code to call Ollama?? What's going on?!\n",
    "\n",
    "Here's the scoop:\n",
    "\n",
    "The python class `OpenAI` is simply code written by OpenAI engineers that makes calls over the internet to an endpoint.  \n",
    "\n",
    "When you call `openai.chat.completions.create()`, this python code just makes a web request to the following url: \"https://api.openai.com/v1/chat/completions\"\n",
    "\n",
    "Code like this is known as a \"client library\" - it's just wrapper code that runs on your machine to make web requests. The actual power of GPT is running on OpenAI's cloud behind this API, not on your computer!\n",
    "\n",
    "OpenAI was so popular, that lots of other AI providers provided identical web endpoints, so you could use the same approach.\n",
    "\n",
    "So Ollama has an endpoint running on your local box at http://localhost:11434/v1/chat/completions  \n",
    "And in week 2 we'll discover that lots of other providers do this too, including Gemini and DeepSeek.\n",
    "\n",
    "And then the team at OpenAI had a great idea: they can extend their client library so you can specify a different 'base url', and use their library to call any compatible API.\n",
    "\n",
    "That's it!\n",
    "\n",
    "So when you say: `ollama_via_openai = OpenAI(base_url='http://localhost:11434/v1', api_key='ollama')`  \n",
    "Then this will make the same endpoint calls, but to Ollama instead of OpenAI."
   ]
  },
  {
   "cell_type": "code",
   "execution_count": 24,
   "id": "9d722f4d-52a7-42b3-80cf-ab6d6a71d936",
   "metadata": {},
   "outputs": [
    {
     "name": "stdout",
     "output_type": "stream",
     "text": [
      "**Professional Resume: PremKumar Kora**\n",
      "=====================================\n",
      "\n",
      "**Contact Information**\n",
      "--------------------\n",
      "\n",
      "* Email: [premkumarkora@gmail.com](mailto:premkumarkora@gmail.com)\n",
      "* Phone: +1 123 456 7890\n",
      "* LinkedIn: https://www.linkedin.com/in/premkora/\n",
      "\n",
      "**Summary**\n",
      "----------\n",
      "\n",
      "Highly experienced Data Scientist & AI Architect with over 25 years in software technology and AI. Proven track record of leading projects across industries, implementing Large Language Models (LLMs), and Generative AI solutions for business transformation. Skilled in AI architecture, machine learning, NLP, predictive analytics, cloud AI deployment, and mentorship.\n",
      "\n",
      "**Professional Experience**\n",
      "-------------------------\n",
      "\n",
      "* **Senior Data Scientist & GenAI Architect**, ABC Corporation (2020-Present)\n",
      "\t+ Led projects across industries implementing LLMs, Generative AI solutions, and enterprise AI systems.\n",
      "\t+ Developed scalable real-world AI applications using transformer models, prompt engineering, and GenAI.\n",
      "\t+ Collaborated with cross-functional teams to drive AI-driven innovation and business growth.\n",
      "* **Data Scientist & AI Architect**, DEF Startups (2015-2020)\n",
      "\t+ Designed and implemented data pipelines, AI automation systems, and predictive analytics models for enterprise clients.\n",
      "\t+ Worked on real-time data analysis, automated decision-making, and machine learning tasks using Python, R, and TensorFlow.\n",
      "* **Researcher & Professor**, GHI University (2005-2015)\n",
      "\t+ Conducted research in Machine Learning, Data Mining, and AI applications.\n",
      "\t+ Taught courses in Data Science, Artificial Intelligence, and Machine Learning.\n",
      "\n",
      "**Education**\n",
      "------------\n",
      "\n",
      "* **Ph.D. in Computer Science**, JKL University (1990-1995)\n",
      "* **M.Sc. in Information Technology**, MNO Institute (1985-1987)\n",
      "* **B.Sc. in Physics**, PQR College (1980-1984)\n",
      "\n",
      "**Publications & Presentations**\n",
      "---------------------------------\n",
      "\n",
      "* **Author**, multiple publications on Medium and ResearchGate.\n",
      "* **Speaker**, presented at conferences and workshops on Machine Learning, Data Science, and AI.\n",
      "* **Published Author**, listed on author lists of various research papers and books.\n",
      "\n",
      "**Mentorship & Community Service**\n",
      "-----------------------------------\n",
      "\n",
      "* **Mentor**, mentored over 100 future AI professionals through technical guidance, career coaching, and project-based learning.\n",
      "* **Community Service**, organized community eye camps, flood relief camps, medical camps, and other humanitarian efforts to improve vision, access to healthcare, and overall well-being of underprivileged communities.\n",
      "\n",
      "**Skills**\n",
      "---------\n",
      "\n",
      "* **Programming Languages**: Python, R, Java, C++, MATLAB\n",
      "* **Machine Learning Frameworks**: TensorFlow, PyTorch, Scikit-Learn, Keras\n",
      "* **Data Management Tools**: MySQL, MongoDB, PostgreSQL, Redis\n",
      "* **Cloud Platforms**: AWS, Azure, Google Cloud, Heroku\n",
      "\n",
      "**Certifications**\n",
      "-----------------\n",
      "\n",
      "* **Certified Data Scientist**, Data Science Council of America (DASCA)\n",
      "* **Certified AI Engineer**, Association for the Advancement of Artificial Intelligence (AAAI)\n"
     ]
    }
   ],
   "source": [
    "# There's actually an alternative approach that some people might prefer\n",
    "# You can use the OpenAI client python library to call Ollama:\n",
    "\n",
    "from openai import OpenAI\n",
    "ollama_via_openai = OpenAI(base_url='http://localhost:11434/v1', api_key='ollama')\n",
    "\n",
    "response = ollama_via_openai.chat.completions.create(\n",
    "    model=MODEL,\n",
    "    messages=messages\n",
    ")\n",
    "\n",
    "print(response.choices[0].message.content)"
   ]
  },
  {
   "cell_type": "code",
   "execution_count": null,
   "id": "3e09fadd-53ee-42a6-b1c9-989388eaa7b5",
   "metadata": {},
   "outputs": [],
   "source": []
  }
 ],
 "metadata": {
  "kernelspec": {
   "display_name": "Python 3 (ipykernel)",
   "language": "python",
   "name": "python3"
  },
  "language_info": {
   "codemirror_mode": {
    "name": "ipython",
    "version": 3
   },
   "file_extension": ".py",
   "mimetype": "text/x-python",
   "name": "python",
   "nbconvert_exporter": "python",
   "pygments_lexer": "ipython3",
   "version": "3.11.12"
  }
 },
 "nbformat": 4,
 "nbformat_minor": 5
}
